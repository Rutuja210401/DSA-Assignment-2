{
 "cells": [
  {
   "cell_type": "code",
   "execution_count": 4,
   "id": "a9f3149a",
   "metadata": {},
   "outputs": [
    {
     "name": "stdout",
     "output_type": "stream",
     "text": [
      "Given linked list\n",
      "1 2 3 4 5 6 7 8 9 \n",
      "Reversed Linked list\n",
      "3 2 1 6 5 4 9 8 7 "
     ]
    }
   ],
   "source": [
    "# Reverse a linked list in groups of given size\n",
    "class Node:\n",
    "    def __init__(self, data):\n",
    "        self.data = data\n",
    "        self.next = None\n",
    "class LinkedList:\n",
    "    def __init__(self):\n",
    "        self.head = None\n",
    "    def reverse(self, head, k):\n",
    "        if head == None:\n",
    "            return None\n",
    "        current = head\n",
    "        next = None\n",
    "        prev = None\n",
    "        count = 0\n",
    "        while(current is not None and count < k):\n",
    "            next = current.next\n",
    "            current.next = prev\n",
    "            prev = current\n",
    "            current = next\n",
    "            count += 1\n",
    "        if next is not None:\n",
    "            head.next = self.reverse(next, k)\n",
    "        return prev\n",
    "    def push(self, new_data):\n",
    "        new_node = Node(new_data)\n",
    "        new_node.next = self.head\n",
    "        self.head = new_node\n",
    "    def printList(self):\n",
    "        temp = self.head\n",
    "        while(temp):\n",
    "            print(temp.data,end=' ')\n",
    "            temp = temp.next\n",
    "llist = LinkedList()\n",
    "llist.push(9)\n",
    "llist.push(8)\n",
    "llist.push(7)\n",
    "llist.push(6)\n",
    "llist.push(5)\n",
    "llist.push(4)\n",
    "llist.push(3)\n",
    "llist.push(2)\n",
    "llist.push(1)\n",
    "  \n",
    "print(\"Given linked list\")\n",
    "llist.printList()\n",
    "llist.head = llist.reverse(llist.head, 3)\n",
    "  \n",
    "print (\"\\nReversed Linked list\")\n",
    "llist.printList()"
   ]
  },
  {
   "cell_type": "code",
   "execution_count": 2,
   "id": "4696aa0b",
   "metadata": {},
   "outputs": [
    {
     "name": "stdout",
     "output_type": "stream",
     "text": [
      "First Linked List:\n",
      "0\n",
      "1\n",
      "2\n",
      "3\n",
      "Second Linked List:\n",
      "4\n",
      "5\n",
      "6\n",
      "7\n",
      "8\n",
      "Modified first linked list:\n",
      "0\n",
      "4\n",
      "1\n",
      "5\n",
      "2\n",
      "6\n",
      "3\n",
      "7\n",
      "Modified second linked list:\n",
      "8\n"
     ]
    }
   ],
   "source": [
    "# Merge a linked list into another linked list at alternate positions.\n",
    "class Node(object):\n",
    "    def __init__(self, data:int):\n",
    "        self.data = data\n",
    "        self.next = None\n",
    "class LinkedList(object):\n",
    "    def __init__(self):\n",
    "        self.head = None\n",
    "    def push(self, new_data:int):\n",
    "        new_node = Node(new_data)\n",
    "        new_node.next = self.head\n",
    "        self.head = new_node\n",
    "    def printList(self):\n",
    "        temp = self.head\n",
    "        while temp != None:\n",
    "            print(temp.data)\n",
    "            temp = temp.next\n",
    "    def merge(self, p, q):\n",
    "        p_curr = p.head\n",
    "        q_curr = q.head\n",
    "        while p_curr != None and q_curr != None:\n",
    "            p_next = p_curr.next\n",
    "            q_next = q_curr.next\n",
    "            q_curr.next = p_next \n",
    "            p_curr.next = q_curr \n",
    "            p_curr = p_next\n",
    "            q_curr = q_next\n",
    "            q.head = q_curr\n",
    "llist1 = LinkedList()\n",
    "llist2 = LinkedList()\n",
    "# Creating LLs\n",
    "# 1.\n",
    "llist1.push(3)\n",
    "llist1.push(2)\n",
    "llist1.push(1)\n",
    "llist1.push(0)\n",
    "# 2.\n",
    "for i in range(8, 3, -1):\n",
    "    llist2.push(i)\n",
    "  \n",
    "print(\"First Linked List:\")\n",
    "llist1.printList()\n",
    "  \n",
    "print(\"Second Linked List:\")\n",
    "llist2.printList()\n",
    "  \n",
    "# Merging the LLs\n",
    "llist1.merge(p=llist1, q=llist2)\n",
    "  \n",
    "print(\"Modified first linked list:\")\n",
    "llist1.printList()\n",
    "  \n",
    "print(\"Modified second linked list:\")\n",
    "llist2.printList()"
   ]
  },
  {
   "cell_type": "code",
   "execution_count": 3,
   "id": "28394e2f",
   "metadata": {},
   "outputs": [
    {
     "name": "stdout",
     "output_type": "stream",
     "text": [
      "Count of pairs is 2\n"
     ]
    }
   ],
   "source": [
    "# 4.In an array, Count Pairs with given sum\n",
    "def getPairsCount(arr, n, K):\n",
    "    count = 0 \n",
    "    for i in range(0, n):\n",
    "        for j in range(i + 1, n):\n",
    "            if arr[i] + arr[j] == K:\n",
    "                count += 1\n",
    " \n",
    "    return count\n",
    "arr = [1, 5, 7, -1]\n",
    "n = len(arr)\n",
    "K = 6\n",
    "print(\"Count of pairs is\",\n",
    "      getPairsCount(arr, n, K))"
   ]
  },
  {
   "cell_type": "code",
   "execution_count": 5,
   "id": "19bb534d",
   "metadata": {},
   "outputs": [
    {
     "name": "stdout",
     "output_type": "stream",
     "text": [
      "2\n",
      "3\n"
     ]
    }
   ],
   "source": [
    "#5. Find duplicates in an array\n",
    "def duplicates(arr, n):\n",
    "    for i in range(n):\n",
    "        arr[i] = arr[i] + 1\n",
    "    res = []\n",
    "    count = 0\n",
    "    for i in range(n):\n",
    "        if(abs(arr[i]) > n):\n",
    "            index = abs(arr[i])//(n+1)\n",
    "        else:\n",
    "            index = abs(arr[i])\n",
    "        if(index == n):\n",
    "            count += 1\n",
    "            continue\n",
    "        val = arr[index]\n",
    "        if(val < 0):\n",
    "            res.append(index-1)\n",
    "            arr[index] = abs(arr[index]) * (n + 1)\n",
    "        elif(val>n):\n",
    "            continue\n",
    "        else:\n",
    "            arr[index] = -arr[index]\n",
    "    if(count > 1):\n",
    "        res.append(n - 1)\n",
    "    if(len(res) == 0):\n",
    "        res.append(-1)\n",
    "    else:\n",
    "        res.sort()\n",
    "    return res\n",
    "numRay = [ 0, 4, 3, 2, 7, 8, 2, 3, 1 ]\n",
    "n = len(numRay)\n",
    "ans = duplicates(numRay,n)\n",
    "for i in ans:\n",
    "    print(i)\n",
    "     "
   ]
  },
  {
   "cell_type": "code",
   "execution_count": 6,
   "id": "e8cb90ba",
   "metadata": {},
   "outputs": [
    {
     "name": "stdout",
     "output_type": "stream",
     "text": [
      "K'th smallest element is 5\n"
     ]
    }
   ],
   "source": [
    "#6. Find the Kth largest and Kth smallest number in an array\n",
    "def kthSmallest(arr, N, K):\n",
    "    arr.sort()\n",
    "    return arr[K-1]\n",
    "if __name__ == '__main__':\n",
    "    arr = [12, 3, 5, 7, 19]\n",
    "    N = len(arr)\n",
    "    K = 2\n",
    "    print(\"K'th smallest element is\",\n",
    "          kthSmallest(arr, N, K))\n",
    " "
   ]
  },
  {
   "cell_type": "code",
   "execution_count": 7,
   "id": "69325a54",
   "metadata": {},
   "outputs": [
    {
     "name": "stdout",
     "output_type": "stream",
     "text": [
      "-7 -3 -1 2 4 5 6 8 9 "
     ]
    }
   ],
   "source": [
    "# Move all the negative elements to one side of the array\n",
    "def move(arr):\n",
    "  arr.sort()\n",
    "  \n",
    "# driver code\n",
    "arr = [ -1, 2, -3, 4, 5, 6, -7, 8, 9 ]\n",
    "move(arr)\n",
    "for e in arr:\n",
    "    print(e , end = \" \")"
   ]
  },
  {
   "cell_type": "code",
   "execution_count": 8,
   "id": "03d05b7c",
   "metadata": {},
   "outputs": [
    {
     "name": "stdout",
     "output_type": "stream",
     "text": [
      "Reversed string is erutcutSataD\n"
     ]
    }
   ],
   "source": [
    "# Reverse a string using a stack data structure\n",
    "def createStack():\n",
    "    stack = []\n",
    "    return stack\n",
    "def size(stack):\n",
    "    return len(stack)\n",
    "def isEmpty(stack):\n",
    "    if size(stack) == 0:\n",
    "        return true\n",
    "def push(stack, item):\n",
    "    stack.append(item)\n",
    "def pop(stack):\n",
    "    if isEmpty(stack):\n",
    "        return\n",
    "    return stack.pop()\n",
    "def reverse(string):\n",
    "    n = len(string)\n",
    "    stack = createStack()\n",
    "    for i in range(0, n, 1):\n",
    "        push(stack, string[i])\n",
    "    string = \"\"\n",
    "    for i in range(0, n, 1):\n",
    "        string += pop(stack)\n",
    " \n",
    "    return string\n",
    "string = \"DataStucture\"\n",
    "string = reverse(string)\n",
    "print(\"Reversed string is \" + string)"
   ]
  },
  {
   "cell_type": "code",
   "execution_count": 9,
   "id": "f26a0497",
   "metadata": {},
   "outputs": [
    {
     "name": "stdout",
     "output_type": "stream",
     "text": [
      "postfix evaluation: -4\n"
     ]
    }
   ],
   "source": [
    "# Evaluate a postfix expression using stack\n",
    "class Evaluate:\n",
    "    def __init__(self, capacity):\n",
    "        self.top = -1\n",
    "        self.capacity = capacity\n",
    "        self.array = []\n",
    "    def isEmpty(self):\n",
    "        return True if self.top == -1 else False\n",
    "    def peek(self):\n",
    "        return self.array[-1]\n",
    "    def pop(self):\n",
    "        if not self.isEmpty():\n",
    "            self.top -= 1\n",
    "            return self.array.pop()\n",
    "        else:\n",
    "            return \"$\"\n",
    "    def push(self, op):\n",
    "        self.top += 1\n",
    "        self.array.append(op)\n",
    "    def evaluatePostfix(self, exp):\n",
    "        for i in exp:\n",
    "            if i.isdigit():\n",
    "                self.push(i)\n",
    "            else:\n",
    "                val1 = self.pop()\n",
    "                val2 = self.pop()\n",
    "                self.push(str(eval(val2 + i + val1)))\n",
    " \n",
    "        return int(self.pop())\n",
    "if __name__ == '__main__':\n",
    "    exp = \"231*+9-\"\n",
    "    obj = Evaluate(len(exp))\n",
    "    print(\"postfix evaluation: %d\" % (obj.evaluatePostfix(exp)))\n",
    " "
   ]
  },
  {
   "cell_type": "code",
   "execution_count": 10,
   "id": "10de3905",
   "metadata": {},
   "outputs": [
    {
     "name": "stdout",
     "output_type": "stream",
     "text": [
      "1\n",
      "2\n",
      "3\n"
     ]
    }
   ],
   "source": [
    "# Implement a queue using the stack data structure\n",
    "class Queue:\n",
    "    def __init__(self):\n",
    "        self.s1 = []\n",
    "        self.s2 = []\n",
    "    def enQueue(self, x):\n",
    "        while len(self.s1) != 0:\n",
    "            self.s2.append(self.s1[-1])\n",
    "            self.s1.pop()\n",
    "        self.s1.append(x)\n",
    "        while len(self.s2) != 0:\n",
    "            self.s1.append(self.s2[-1])\n",
    "            self.s2.pop()\n",
    "    def deQueue(self):\n",
    "        if len(self.s1) == 0:\n",
    "            return -1;\n",
    "        x = self.s1[-1]\n",
    "        self.s1.pop()\n",
    "        return x\n",
    "if __name__ == '__main__':\n",
    "    q = Queue()\n",
    "    q.enQueue(1)\n",
    "    q.enQueue(2)\n",
    "    q.enQueue(3)\n",
    " \n",
    "    print(q.deQueue())\n",
    "    print(q.deQueue())\n",
    "    print(q.deQueue())\n"
   ]
  },
  {
   "cell_type": "code",
   "execution_count": null,
   "id": "b2fb7e62",
   "metadata": {},
   "outputs": [],
   "source": []
  }
 ],
 "metadata": {
  "kernelspec": {
   "display_name": "Python 3 (ipykernel)",
   "language": "python",
   "name": "python3"
  },
  "language_info": {
   "codemirror_mode": {
    "name": "ipython",
    "version": 3
   },
   "file_extension": ".py",
   "mimetype": "text/x-python",
   "name": "python",
   "nbconvert_exporter": "python",
   "pygments_lexer": "ipython3",
   "version": "3.11.4"
  }
 },
 "nbformat": 4,
 "nbformat_minor": 5
}
